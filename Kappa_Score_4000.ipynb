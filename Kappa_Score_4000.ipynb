{
  "nbformat": 4,
  "nbformat_minor": 0,
  "metadata": {
    "colab": {
      "provenance": [],
      "include_colab_link": true
    },
    "kernelspec": {
      "name": "python3",
      "display_name": "Python 3"
    },
    "language_info": {
      "name": "python"
    }
  },
  "cells": [
    {
      "cell_type": "markdown",
      "metadata": {
        "id": "view-in-github",
        "colab_type": "text"
      },
      "source": [
        "<a href=\"https://colab.research.google.com/github/j4ck132/SMPNet/blob/main/Kappa_Score_4000.ipynb\" target=\"_parent\"><img src=\"https://colab.research.google.com/assets/colab-badge.svg\" alt=\"Open In Colab\"/></a>"
      ]
    },
    {
      "cell_type": "code",
      "execution_count": null,
      "metadata": {
        "id": "Vb7LbOtswdF_"
      },
      "outputs": [],
      "source": [
        "import pandas as pd"
      ]
    },
    {
      "cell_type": "code",
      "source": [
        "df = pd.read_csv('/content/loneliness_posts_8k_jack_raghav - loneliness_posts_8k (2).csv')\n",
        "df = df.dropna(how='any')\n",
        "df.head()\n",
        "\n",
        "\n"
      ],
      "metadata": {
        "colab": {
          "base_uri": "https://localhost:8080/",
          "height": 320
        },
        "id": "Yczv7CY4we3-",
        "outputId": "3b5ee475-5255-4a80-d177-f7c8aed082fa"
      },
      "execution_count": null,
      "outputs": [
        {
          "output_type": "execute_result",
          "data": {
            "text/plain": [
              "       id                                          full_link  \\\n",
              "1  dqx6wo  https://www.reddit.com/r/lonely/comments/dqx6w...   \n",
              "3  r7rrn1  https://www.reddit.com/r/lonely/comments/r7rrn...   \n",
              "5  oytqvv  https://www.reddit.com/r/lonely/comments/oytqv...   \n",
              "7  mwxene  https://www.reddit.com/r/lonely/comments/mwxen...   \n",
              "9  gwa3ew  https://www.reddit.com/r/lonely/comments/gwa3e...   \n",
              "\n",
              "                                                text  feelLonely Jack  \\\n",
              "1  Red streak girlSo uh yeah she seems pretty chi...              0.0   \n",
              "3         Just wanna talkIm here to talk if you want              0.0   \n",
              "5  How to get over jealousy of socially active fr...              1.0   \n",
              "7  Were all lonely people, right?Saw a post on he...              0.0   \n",
              "9  i hate my birthdaymy birthday is in two days a...              1.0   \n",
              "\n",
              "   feelLonely Raghav  \n",
              "1                1.0  \n",
              "3                0.0  \n",
              "5                0.0  \n",
              "7                0.0  \n",
              "9                1.0  "
            ],
            "text/html": [
              "\n",
              "  <div id=\"df-03a59bc9-0332-46b6-a532-67728af986fe\">\n",
              "    <div class=\"colab-df-container\">\n",
              "      <div>\n",
              "<style scoped>\n",
              "    .dataframe tbody tr th:only-of-type {\n",
              "        vertical-align: middle;\n",
              "    }\n",
              "\n",
              "    .dataframe tbody tr th {\n",
              "        vertical-align: top;\n",
              "    }\n",
              "\n",
              "    .dataframe thead th {\n",
              "        text-align: right;\n",
              "    }\n",
              "</style>\n",
              "<table border=\"1\" class=\"dataframe\">\n",
              "  <thead>\n",
              "    <tr style=\"text-align: right;\">\n",
              "      <th></th>\n",
              "      <th>id</th>\n",
              "      <th>full_link</th>\n",
              "      <th>text</th>\n",
              "      <th>feelLonely Jack</th>\n",
              "      <th>feelLonely Raghav</th>\n",
              "    </tr>\n",
              "  </thead>\n",
              "  <tbody>\n",
              "    <tr>\n",
              "      <th>1</th>\n",
              "      <td>dqx6wo</td>\n",
              "      <td>https://www.reddit.com/r/lonely/comments/dqx6w...</td>\n",
              "      <td>Red streak girlSo uh yeah she seems pretty chi...</td>\n",
              "      <td>0.0</td>\n",
              "      <td>1.0</td>\n",
              "    </tr>\n",
              "    <tr>\n",
              "      <th>3</th>\n",
              "      <td>r7rrn1</td>\n",
              "      <td>https://www.reddit.com/r/lonely/comments/r7rrn...</td>\n",
              "      <td>Just wanna talkIm here to talk if you want</td>\n",
              "      <td>0.0</td>\n",
              "      <td>0.0</td>\n",
              "    </tr>\n",
              "    <tr>\n",
              "      <th>5</th>\n",
              "      <td>oytqvv</td>\n",
              "      <td>https://www.reddit.com/r/lonely/comments/oytqv...</td>\n",
              "      <td>How to get over jealousy of socially active fr...</td>\n",
              "      <td>1.0</td>\n",
              "      <td>0.0</td>\n",
              "    </tr>\n",
              "    <tr>\n",
              "      <th>7</th>\n",
              "      <td>mwxene</td>\n",
              "      <td>https://www.reddit.com/r/lonely/comments/mwxen...</td>\n",
              "      <td>Were all lonely people, right?Saw a post on he...</td>\n",
              "      <td>0.0</td>\n",
              "      <td>0.0</td>\n",
              "    </tr>\n",
              "    <tr>\n",
              "      <th>9</th>\n",
              "      <td>gwa3ew</td>\n",
              "      <td>https://www.reddit.com/r/lonely/comments/gwa3e...</td>\n",
              "      <td>i hate my birthdaymy birthday is in two days a...</td>\n",
              "      <td>1.0</td>\n",
              "      <td>1.0</td>\n",
              "    </tr>\n",
              "  </tbody>\n",
              "</table>\n",
              "</div>\n",
              "      <button class=\"colab-df-convert\" onclick=\"convertToInteractive('df-03a59bc9-0332-46b6-a532-67728af986fe')\"\n",
              "              title=\"Convert this dataframe to an interactive table.\"\n",
              "              style=\"display:none;\">\n",
              "        \n",
              "  <svg xmlns=\"http://www.w3.org/2000/svg\" height=\"24px\"viewBox=\"0 0 24 24\"\n",
              "       width=\"24px\">\n",
              "    <path d=\"M0 0h24v24H0V0z\" fill=\"none\"/>\n",
              "    <path d=\"M18.56 5.44l.94 2.06.94-2.06 2.06-.94-2.06-.94-.94-2.06-.94 2.06-2.06.94zm-11 1L8.5 8.5l.94-2.06 2.06-.94-2.06-.94L8.5 2.5l-.94 2.06-2.06.94zm10 10l.94 2.06.94-2.06 2.06-.94-2.06-.94-.94-2.06-.94 2.06-2.06.94z\"/><path d=\"M17.41 7.96l-1.37-1.37c-.4-.4-.92-.59-1.43-.59-.52 0-1.04.2-1.43.59L10.3 9.45l-7.72 7.72c-.78.78-.78 2.05 0 2.83L4 21.41c.39.39.9.59 1.41.59.51 0 1.02-.2 1.41-.59l7.78-7.78 2.81-2.81c.8-.78.8-2.07 0-2.86zM5.41 20L4 18.59l7.72-7.72 1.47 1.35L5.41 20z\"/>\n",
              "  </svg>\n",
              "      </button>\n",
              "      \n",
              "  <style>\n",
              "    .colab-df-container {\n",
              "      display:flex;\n",
              "      flex-wrap:wrap;\n",
              "      gap: 12px;\n",
              "    }\n",
              "\n",
              "    .colab-df-convert {\n",
              "      background-color: #E8F0FE;\n",
              "      border: none;\n",
              "      border-radius: 50%;\n",
              "      cursor: pointer;\n",
              "      display: none;\n",
              "      fill: #1967D2;\n",
              "      height: 32px;\n",
              "      padding: 0 0 0 0;\n",
              "      width: 32px;\n",
              "    }\n",
              "\n",
              "    .colab-df-convert:hover {\n",
              "      background-color: #E2EBFA;\n",
              "      box-shadow: 0px 1px 2px rgba(60, 64, 67, 0.3), 0px 1px 3px 1px rgba(60, 64, 67, 0.15);\n",
              "      fill: #174EA6;\n",
              "    }\n",
              "\n",
              "    [theme=dark] .colab-df-convert {\n",
              "      background-color: #3B4455;\n",
              "      fill: #D2E3FC;\n",
              "    }\n",
              "\n",
              "    [theme=dark] .colab-df-convert:hover {\n",
              "      background-color: #434B5C;\n",
              "      box-shadow: 0px 1px 3px 1px rgba(0, 0, 0, 0.15);\n",
              "      filter: drop-shadow(0px 1px 2px rgba(0, 0, 0, 0.3));\n",
              "      fill: #FFFFFF;\n",
              "    }\n",
              "  </style>\n",
              "\n",
              "      <script>\n",
              "        const buttonEl =\n",
              "          document.querySelector('#df-03a59bc9-0332-46b6-a532-67728af986fe button.colab-df-convert');\n",
              "        buttonEl.style.display =\n",
              "          google.colab.kernel.accessAllowed ? 'block' : 'none';\n",
              "\n",
              "        async function convertToInteractive(key) {\n",
              "          const element = document.querySelector('#df-03a59bc9-0332-46b6-a532-67728af986fe');\n",
              "          const dataTable =\n",
              "            await google.colab.kernel.invokeFunction('convertToInteractive',\n",
              "                                                     [key], {});\n",
              "          if (!dataTable) return;\n",
              "\n",
              "          const docLinkHtml = 'Like what you see? Visit the ' +\n",
              "            '<a target=\"_blank\" href=https://colab.research.google.com/notebooks/data_table.ipynb>data table notebook</a>'\n",
              "            + ' to learn more about interactive tables.';\n",
              "          element.innerHTML = '';\n",
              "          dataTable['output_type'] = 'display_data';\n",
              "          await google.colab.output.renderOutput(dataTable, element);\n",
              "          const docLink = document.createElement('div');\n",
              "          docLink.innerHTML = docLinkHtml;\n",
              "          element.appendChild(docLink);\n",
              "        }\n",
              "      </script>\n",
              "    </div>\n",
              "  </div>\n",
              "  "
            ]
          },
          "metadata": {},
          "execution_count": 41
        }
      ]
    },
    {
      "cell_type": "code",
      "source": [
        "df_jack = df['feelLonely Jack']\n",
        "df_jack.head()\n",
        "\n",
        "\n",
        "\n",
        "\n",
        "\n"
      ],
      "metadata": {
        "colab": {
          "base_uri": "https://localhost:8080/"
        },
        "id": "K_MQ4Qlqx14w",
        "outputId": "c646e6e3-8b36-42f3-c9a1-bd9c1d9eed82"
      },
      "execution_count": null,
      "outputs": [
        {
          "output_type": "execute_result",
          "data": {
            "text/plain": [
              "1    0.0\n",
              "3    0.0\n",
              "5    1.0\n",
              "7    0.0\n",
              "9    1.0\n",
              "Name: feelLonely Jack, dtype: float64"
            ]
          },
          "metadata": {},
          "execution_count": 42
        }
      ]
    },
    {
      "cell_type": "code",
      "source": [
        "df_raghav = df['feelLonely Raghav']\n",
        "df_raghav.head()\n",
        "df_raghav.dropna()\n",
        "\n"
      ],
      "metadata": {
        "colab": {
          "base_uri": "https://localhost:8080/"
        },
        "id": "zMZAB7EwyINi",
        "outputId": "974584fa-c7ab-47c4-e470-4d89c3a121d7"
      },
      "execution_count": null,
      "outputs": [
        {
          "output_type": "execute_result",
          "data": {
            "text/plain": [
              "1       1.0\n",
              "3       0.0\n",
              "5       0.0\n",
              "7       0.0\n",
              "9       1.0\n",
              "       ... \n",
              "7991    1.0\n",
              "7993    0.0\n",
              "7995    1.0\n",
              "7997    0.0\n",
              "7999    1.0\n",
              "Name: feelLonely Raghav, Length: 3990, dtype: float64"
            ]
          },
          "metadata": {},
          "execution_count": 43
        }
      ]
    },
    {
      "cell_type": "code",
      "source": [
        "import sklearn.metrics\n",
        "\n",
        "kappa_score = sklearn.metrics.cohen_kappa_score(df_jack, df_raghav)\n",
        "print(kappa_score)"
      ],
      "metadata": {
        "colab": {
          "base_uri": "https://localhost:8080/"
        },
        "id": "5lrf6RBGyR3y",
        "outputId": "5974f30c-cb63-44f9-982a-43544aed3c75"
      },
      "execution_count": null,
      "outputs": [
        {
          "output_type": "stream",
          "name": "stdout",
          "text": [
            "0.7615185543748093\n"
          ]
        }
      ]
    }
  ]
}